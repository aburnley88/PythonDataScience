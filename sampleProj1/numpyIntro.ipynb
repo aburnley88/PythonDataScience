{
 "cells": [
  {
   "cell_type": "code",
   "execution_count": 4,
   "id": "9f8790f3",
   "metadata": {},
   "outputs": [],
   "source": [
    "#import numpy\n",
    "import numpy as np"
   ]
  },
  {
   "cell_type": "markdown",
   "id": "95479726",
   "metadata": {},
   "source": [
    "## Datatypes and Attributes"
   ]
  },
  {
   "cell_type": "code",
   "execution_count": 2,
   "id": "0fc0c8af",
   "metadata": {},
   "outputs": [],
   "source": [
    "#nupy's main type is ndarray"
   ]
  },
  {
   "cell_type": "code",
   "execution_count": 50,
   "id": "986cf513",
   "metadata": {},
   "outputs": [],
   "source": [
    "a1 = np.array([1,2,3])"
   ]
  },
  {
   "cell_type": "code",
   "execution_count": 4,
   "id": "2bf0c63c",
   "metadata": {},
   "outputs": [
    {
     "data": {
      "text/plain": [
       "numpy.ndarray"
      ]
     },
     "execution_count": 4,
     "metadata": {},
     "output_type": "execute_result"
    }
   ],
   "source": [
    "##check type\n",
    "type(a1)"
   ]
  },
  {
   "cell_type": "code",
   "execution_count": 51,
   "id": "e568b802",
   "metadata": {},
   "outputs": [],
   "source": [
    "## create more sample arrays with various dimensions\n",
    "\n",
    "a2 = np.array([[1, 2.0, 3.3],\n",
    "                [4, 5, 6.5]])\n",
    "\n",
    "a3 = np.array([[[1, 2, 3],\n",
    "                [4, 5, 6],\n",
    "                [7, 8, 9]],\n",
    "                [[10, 11, 12],\n",
    "                [13, 14, 15],\n",
    "                [16, 17, 18]]])"
   ]
  },
  {
   "cell_type": "code",
   "execution_count": 52,
   "id": "4e71547e",
   "metadata": {},
   "outputs": [
    {
     "data": {
      "text/plain": [
       "array([[1. , 2. , 3.3],\n",
       "       [4. , 5. , 6.5]])"
      ]
     },
     "execution_count": 52,
     "metadata": {},
     "output_type": "execute_result"
    }
   ],
   "source": [
    "a2"
   ]
  },
  {
   "cell_type": "code",
   "execution_count": 53,
   "id": "6e4be790",
   "metadata": {},
   "outputs": [
    {
     "data": {
      "text/plain": [
       "array([[[ 1,  2,  3],\n",
       "        [ 4,  5,  6],\n",
       "        [ 7,  8,  9]],\n",
       "\n",
       "       [[10, 11, 12],\n",
       "        [13, 14, 15],\n",
       "        [16, 17, 18]]])"
      ]
     },
     "execution_count": 53,
     "metadata": {},
     "output_type": "execute_result"
    }
   ],
   "source": [
    "a3"
   ]
  },
  {
   "cell_type": "code",
   "execution_count": 8,
   "id": "0bf4c4a2",
   "metadata": {},
   "outputs": [
    {
     "data": {
      "text/plain": [
       "(2, 3)"
      ]
     },
     "execution_count": 8,
     "metadata": {},
     "output_type": "execute_result"
    }
   ],
   "source": [
    "a2.shape"
   ]
  },
  {
   "cell_type": "code",
   "execution_count": 9,
   "id": "e56e75c4",
   "metadata": {},
   "outputs": [
    {
     "data": {
      "text/plain": [
       "(2, 3, 3)"
      ]
     },
     "execution_count": 9,
     "metadata": {},
     "output_type": "execute_result"
    }
   ],
   "source": [
    "a3.shape"
   ]
  },
  {
   "cell_type": "code",
   "execution_count": 11,
   "id": "764c151d",
   "metadata": {},
   "outputs": [
    {
     "data": {
      "text/plain": [
       "3"
      ]
     },
     "execution_count": 11,
     "metadata": {},
     "output_type": "execute_result"
    }
   ],
   "source": [
    "# use ndim to check dimensions of an array\n",
    "a3.ndim"
   ]
  },
  {
   "cell_type": "code",
   "execution_count": 12,
   "id": "5d44df60",
   "metadata": {},
   "outputs": [
    {
     "data": {
      "text/plain": [
       "dtype('float64')"
      ]
     },
     "execution_count": 12,
     "metadata": {},
     "output_type": "execute_result"
    }
   ],
   "source": [
    "# use dtype to see the datatype\n",
    "a2.dtype"
   ]
  },
  {
   "cell_type": "code",
   "execution_count": 13,
   "id": "424860b6",
   "metadata": {},
   "outputs": [],
   "source": [
    "# notice that because there are floats and ints in a2 the type defaults to float"
   ]
  },
  {
   "cell_type": "code",
   "execution_count": 14,
   "id": "6b48cdcd",
   "metadata": {},
   "outputs": [
    {
     "data": {
      "text/plain": [
       "(3, 6, 18)"
      ]
     },
     "execution_count": 14,
     "metadata": {},
     "output_type": "execute_result"
    }
   ],
   "source": [
    "# size shows the number of elements\n",
    "\n",
    "a1.size, a2.size, a3.size"
   ]
  },
  {
   "cell_type": "code",
   "execution_count": 15,
   "id": "4d257cc3",
   "metadata": {},
   "outputs": [],
   "source": [
    "# create a DataFrame from an ndarray\n",
    "\n",
    "import pandas as pd"
   ]
  },
  {
   "cell_type": "code",
   "execution_count": 16,
   "id": "ccacb82a",
   "metadata": {},
   "outputs": [],
   "source": [
    "df = pd.DataFrame(a2)"
   ]
  },
  {
   "cell_type": "code",
   "execution_count": 17,
   "id": "68ded018",
   "metadata": {},
   "outputs": [
    {
     "data": {
      "text/html": [
       "<div>\n",
       "<style scoped>\n",
       "    .dataframe tbody tr th:only-of-type {\n",
       "        vertical-align: middle;\n",
       "    }\n",
       "\n",
       "    .dataframe tbody tr th {\n",
       "        vertical-align: top;\n",
       "    }\n",
       "\n",
       "    .dataframe thead th {\n",
       "        text-align: right;\n",
       "    }\n",
       "</style>\n",
       "<table border=\"1\" class=\"dataframe\">\n",
       "  <thead>\n",
       "    <tr style=\"text-align: right;\">\n",
       "      <th></th>\n",
       "      <th>0</th>\n",
       "      <th>1</th>\n",
       "      <th>2</th>\n",
       "    </tr>\n",
       "  </thead>\n",
       "  <tbody>\n",
       "    <tr>\n",
       "      <th>0</th>\n",
       "      <td>1.0</td>\n",
       "      <td>2.0</td>\n",
       "      <td>3.3</td>\n",
       "    </tr>\n",
       "    <tr>\n",
       "      <th>1</th>\n",
       "      <td>4.0</td>\n",
       "      <td>5.0</td>\n",
       "      <td>6.5</td>\n",
       "    </tr>\n",
       "  </tbody>\n",
       "</table>\n",
       "</div>"
      ],
      "text/plain": [
       "     0    1    2\n",
       "0  1.0  2.0  3.3\n",
       "1  4.0  5.0  6.5"
      ]
     },
     "execution_count": 17,
     "metadata": {},
     "output_type": "execute_result"
    }
   ],
   "source": [
    "df"
   ]
  },
  {
   "cell_type": "markdown",
   "id": "0d4ce90f",
   "metadata": {},
   "source": [
    "## Creating Arrays"
   ]
  },
  {
   "cell_type": "markdown",
   "id": "8074323c",
   "metadata": {},
   "source": [
    "### creating prefilled arrays"
   ]
  },
  {
   "cell_type": "code",
   "execution_count": 23,
   "id": "bacca584",
   "metadata": {},
   "outputs": [
    {
     "data": {
      "text/plain": [
       "array([[0., 0., 0., 0.],\n",
       "       [0., 0., 0., 0.],\n",
       "       [0., 0., 0., 0.],\n",
       "       [0., 0., 0., 0.]])"
      ]
     },
     "execution_count": 23,
     "metadata": {},
     "output_type": "execute_result"
    }
   ],
   "source": [
    "# you can create an array with all zeros\n",
    "#zeros(shape, dtype=float, order='C', *, like=None)\n",
    "\n",
    "zeros = np.zeros((4,4))\n",
    "zeros"
   ]
  },
  {
   "cell_type": "code",
   "execution_count": 69,
   "id": "d47cb686",
   "metadata": {},
   "outputs": [
    {
     "data": {
      "text/plain": [
       "array([[1., 1., 1., 1., 1.],\n",
       "       [1., 1., 1., 1., 1.],\n",
       "       [1., 1., 1., 1., 1.]])"
      ]
     },
     "execution_count": 69,
     "metadata": {},
     "output_type": "execute_result"
    }
   ],
   "source": [
    "#ditto for ones\n",
    "# np.ones(shape, dtype=None, order='C', *, like=None)\n",
    "\n",
    "ones = np.ones((3,5))\n",
    "ones\n"
   ]
  },
  {
   "cell_type": "code",
   "execution_count": 40,
   "id": "20e77f17",
   "metadata": {},
   "outputs": [
    {
     "data": {
      "text/plain": [
       "array([ 0,  6, 12, 18, 24, 30, 36, 42, 48, 54, 60, 66, 72, 78, 84, 90, 96])"
      ]
     },
     "execution_count": 40,
     "metadata": {},
     "output_type": "execute_result"
    }
   ],
   "source": [
    "#you can also create an array based on a range\n",
    "#arange([start,] stop[, step,], dtype=None, *, like=None)\n",
    "\n",
    "range_o_nums = np.arange(0, 101, 6)\n",
    "range_o_nums"
   ]
  },
  {
   "cell_type": "code",
   "execution_count": 41,
   "id": "3d152c17",
   "metadata": {},
   "outputs": [
    {
     "data": {
      "text/plain": [
       "(17,)"
      ]
     },
     "execution_count": 41,
     "metadata": {},
     "output_type": "execute_result"
    }
   ],
   "source": [
    "range_o_nums.shape"
   ]
  },
  {
   "cell_type": "code",
   "execution_count": 42,
   "id": "3fa1197a",
   "metadata": {},
   "outputs": [],
   "source": [
    "## I want to reshape this array but there's an odd number. Lets add one\n",
    "new_arr = np.append(range_o_nums, 100)"
   ]
  },
  {
   "cell_type": "code",
   "execution_count": 41,
   "id": "2940ff11",
   "metadata": {},
   "outputs": [
    {
     "data": {
      "text/plain": [
       "array([  0,   6,  12,  18,  24,  30,  36,  42,  48,  54,  60,  66,  72,\n",
       "        78,  84,  90,  96, 100])"
      ]
     },
     "execution_count": 41,
     "metadata": {},
     "output_type": "execute_result"
    }
   ],
   "source": [
    "new_arr"
   ]
  },
  {
   "cell_type": "code",
   "execution_count": 42,
   "id": "9784d752",
   "metadata": {},
   "outputs": [
    {
     "data": {
      "text/plain": [
       "(18,)"
      ]
     },
     "execution_count": 42,
     "metadata": {},
     "output_type": "execute_result"
    }
   ],
   "source": [
    "new_arr.shape"
   ]
  },
  {
   "cell_type": "code",
   "execution_count": 44,
   "id": "2a997847",
   "metadata": {},
   "outputs": [],
   "source": [
    "reshaped_arr = np.reshape(new_arr, (3,6))"
   ]
  },
  {
   "cell_type": "code",
   "execution_count": 45,
   "id": "e78138e9",
   "metadata": {},
   "outputs": [
    {
     "data": {
      "text/plain": [
       "array([[  0,   6,  12,  18,  24,  30],\n",
       "       [ 36,  42,  48,  54,  60,  66],\n",
       "       [ 72,  78,  84,  90,  96, 100]])"
      ]
     },
     "execution_count": 45,
     "metadata": {},
     "output_type": "execute_result"
    }
   ],
   "source": [
    "reshaped_arr"
   ]
  },
  {
   "cell_type": "code",
   "execution_count": 23,
   "id": "eb97e7a0",
   "metadata": {},
   "outputs": [
    {
     "data": {
      "text/plain": [
       "array([[44, 44, 19, 16, 98],\n",
       "       [39, 50, 65, 35, 45],\n",
       "       [52,  1, 18, 63,  2]])"
      ]
     },
     "execution_count": 23,
     "metadata": {},
     "output_type": "execute_result"
    }
   ],
   "source": [
    "# you can also use randoms\n",
    "#randint(low, high=None, size=None, dtype=int)\n",
    "random_arr = np.random.randint(0, 100, size=(3,5))\n",
    "\n",
    "random_arr"
   ]
  },
  {
   "cell_type": "code",
   "execution_count": 24,
   "id": "1c54e4b7",
   "metadata": {},
   "outputs": [],
   "source": [
    "#random(size=None)\n",
    "new_rand = np.random.random((5,3))"
   ]
  },
  {
   "cell_type": "code",
   "execution_count": 25,
   "id": "0eb22749",
   "metadata": {},
   "outputs": [
    {
     "data": {
      "text/plain": [
       "array([[0.11621659, 0.08600072, 0.66562461],\n",
       "       [0.32957136, 0.36165062, 0.526111  ],\n",
       "       [0.42472996, 0.81978073, 0.57128475],\n",
       "       [0.88111074, 0.80060352, 0.34992523],\n",
       "       [0.77273869, 0.89649666, 0.78573034]])"
      ]
     },
     "execution_count": 25,
     "metadata": {},
     "output_type": "execute_result"
    }
   ],
   "source": [
    "new_rand"
   ]
  },
  {
   "cell_type": "code",
   "execution_count": 26,
   "id": "32ef7487",
   "metadata": {},
   "outputs": [],
   "source": [
    "# rand(d0, d1, ..., dn)\n",
    "rando = np.random.rand(5,3)"
   ]
  },
  {
   "cell_type": "code",
   "execution_count": 27,
   "id": "680bdce2",
   "metadata": {},
   "outputs": [
    {
     "data": {
      "text/plain": [
       "array([[0.28340737, 0.88190845, 0.54538261],\n",
       "       [0.82802212, 0.23369201, 0.20287765],\n",
       "       [0.95833623, 0.76615276, 0.18825085],\n",
       "       [0.46938131, 0.50253021, 0.1723629 ],\n",
       "       [0.29840685, 0.26880733, 0.88689813]])"
      ]
     },
     "execution_count": 27,
     "metadata": {},
     "output_type": "execute_result"
    }
   ],
   "source": [
    "rando"
   ]
  },
  {
   "cell_type": "code",
   "execution_count": 8,
   "id": "1a144b97",
   "metadata": {},
   "outputs": [],
   "source": [
    "#psuedo random numbers\n",
    "#seed(self, seed=None)\n",
    "# Reseed a legacy MT19937 BitGenerator\n",
    "seed = np.random.seed(3)"
   ]
  },
  {
   "cell_type": "code",
   "execution_count": 1,
   "id": "828250be",
   "metadata": {},
   "outputs": [],
   "source": [
    "#random seed helps generate the same random results eachtime\n"
   ]
  },
  {
   "cell_type": "code",
   "execution_count": 28,
   "id": "ca8c845b",
   "metadata": {},
   "outputs": [
    {
     "data": {
      "text/plain": [
       "array([[0.50325529, 0.57223762, 0.34241958],\n",
       "       [0.60964572, 0.12061737, 0.03891809],\n",
       "       [0.99997546, 0.26794775, 0.25720637],\n",
       "       [0.27664155, 0.25174151, 0.89773703],\n",
       "       [0.83524631, 0.14631622, 0.99544318]])"
      ]
     },
     "execution_count": 28,
     "metadata": {},
     "output_type": "execute_result"
    }
   ],
   "source": [
    "#for example I'll run a random array\n",
    "new_rand = np.random.random((5,3))\n",
    "new_rand"
   ]
  },
  {
   "cell_type": "code",
   "execution_count": 29,
   "id": "35cc3884",
   "metadata": {},
   "outputs": [
    {
     "data": {
      "text/plain": [
       "array([[0.50325529, 0.57223762, 0.34241958],\n",
       "       [0.60964572, 0.12061737, 0.03891809],\n",
       "       [0.99997546, 0.26794775, 0.25720637],\n",
       "       [0.27664155, 0.25174151, 0.89773703],\n",
       "       [0.83524631, 0.14631622, 0.99544318]])"
      ]
     },
     "execution_count": 29,
     "metadata": {},
     "output_type": "execute_result"
    }
   ],
   "source": [
    "# once more\n",
    "new_rand"
   ]
  },
  {
   "cell_type": "code",
   "execution_count": 30,
   "id": "66b75d10",
   "metadata": {},
   "outputs": [
    {
     "data": {
      "text/plain": [
       "array([[0.50325529, 0.57223762, 0.34241958],\n",
       "       [0.60964572, 0.12061737, 0.03891809],\n",
       "       [0.99997546, 0.26794775, 0.25720637],\n",
       "       [0.27664155, 0.25174151, 0.89773703],\n",
       "       [0.83524631, 0.14631622, 0.99544318]])"
      ]
     },
     "execution_count": 30,
     "metadata": {},
     "output_type": "execute_result"
    }
   ],
   "source": [
    "#these are the same because the random seed\n",
    "new_rand"
   ]
  },
  {
   "cell_type": "code",
   "execution_count": 31,
   "id": "11fe301e",
   "metadata": {},
   "outputs": [
    {
     "data": {
      "text/plain": [
       "array([[0.35572909, 0.54713075, 0.49181555]])"
      ]
     },
     "execution_count": 31,
     "metadata": {},
     "output_type": "execute_result"
    }
   ],
   "source": [
    "#to change it I need to create a new instance\n",
    "new_rand = np.random.random((1,3))\n",
    "new_rand"
   ]
  },
  {
   "cell_type": "code",
   "execution_count": 37,
   "id": "9fd8feb6",
   "metadata": {},
   "outputs": [
    {
     "data": {
      "text/plain": [
       "array([[0.12965838, 0.86005346, 0.2183979 , 0.82433139, 0.99828312,\n",
       "        0.99129572, 0.15766976, 0.47066598, 0.70743151, 0.34000592],\n",
       "       [0.69674999, 0.74840772, 0.81703536, 0.84772195, 0.08157105,\n",
       "        0.30768373, 0.56098627, 0.91986042, 0.09488134, 0.40589898],\n",
       "       [0.53846369, 0.64957325, 0.30996164, 0.84135377, 0.49666496,\n",
       "        0.7037397 , 0.67888305, 0.62340361, 0.9978124 , 0.15964715],\n",
       "       [0.81954209, 0.3024983 , 0.10592173, 0.28630413, 0.71360454,\n",
       "        0.2384363 , 0.69766567, 0.02552787, 0.92849884, 0.36307628],\n",
       "       [0.80005733, 0.7195558 , 0.60249053, 0.23146103, 0.44358768,\n",
       "        0.64307498, 0.78238398, 0.79376227, 0.38092887, 0.40791699],\n",
       "       [0.10565921, 0.43900271, 0.85423064, 0.96942917, 0.72015124,\n",
       "        0.41009134, 0.13917651, 0.02209581, 0.22237632, 0.35674568],\n",
       "       [0.78275753, 0.44940119, 0.47693177, 0.51628575, 0.36848027,\n",
       "        0.26242735, 0.80282797, 0.9007708 , 0.36108377, 0.88406467],\n",
       "       [0.3061273 , 0.28368945, 0.21289434, 0.42026649, 0.12582104,\n",
       "        0.99292355, 0.43353429, 0.61670529, 0.97907725, 0.29335451],\n",
       "       [0.45431179, 0.39813691, 0.78858914, 0.61745418, 0.591526  ,\n",
       "        0.12462175, 0.03092919, 0.23209839, 0.01275549, 0.27463747],\n",
       "       [0.94191436, 0.27676791, 0.0757882 , 0.27435217, 0.98602635,\n",
       "        0.42262442, 0.73015954, 0.61518946, 0.18074033, 0.74382941]])"
      ]
     },
     "execution_count": 37,
     "metadata": {},
     "output_type": "execute_result"
    }
   ],
   "source": [
    "new_rando = np.random.random((10,10))\n",
    "new_rando"
   ]
  },
  {
   "cell_type": "code",
   "execution_count": 46,
   "id": "efb9cd22",
   "metadata": {},
   "outputs": [
    {
     "data": {
      "text/plain": [
       "array([  0,   6,  12,  18,  24,  30,  36,  42,  48,  54,  60,  66,  72,\n",
       "        78,  84,  90,  96, 100])"
      ]
     },
     "execution_count": 46,
     "metadata": {},
     "output_type": "execute_result"
    }
   ],
   "source": [
    "#find unique values\n",
    "np.unique(reshaped_arr)"
   ]
  },
  {
   "cell_type": "code",
   "execution_count": 47,
   "id": "c15c2b5c",
   "metadata": {},
   "outputs": [],
   "source": [
    "mults = np.array([1,1,2,3,3,4,5,5,5,6,7,7,])"
   ]
  },
  {
   "cell_type": "code",
   "execution_count": 48,
   "id": "708d8509",
   "metadata": {},
   "outputs": [
    {
     "data": {
      "text/plain": [
       "array([1, 2, 3, 4, 5, 6, 7])"
      ]
     },
     "execution_count": 48,
     "metadata": {},
     "output_type": "execute_result"
    }
   ],
   "source": [
    "np.unique(mults)"
   ]
  },
  {
   "cell_type": "code",
   "execution_count": 49,
   "id": "93827b6d",
   "metadata": {},
   "outputs": [],
   "source": [
    "#viewing arrays and matricies"
   ]
  },
  {
   "cell_type": "code",
   "execution_count": 54,
   "id": "53c4e190",
   "metadata": {},
   "outputs": [
    {
     "data": {
      "text/plain": [
       "1"
      ]
     },
     "execution_count": 54,
     "metadata": {},
     "output_type": "execute_result"
    }
   ],
   "source": [
    "#view first element\n",
    "a1[0]"
   ]
  },
  {
   "cell_type": "code",
   "execution_count": 55,
   "id": "00597b8f",
   "metadata": {},
   "outputs": [
    {
     "data": {
      "text/plain": [
       "array([1, 2, 3])"
      ]
     },
     "execution_count": 55,
     "metadata": {},
     "output_type": "execute_result"
    }
   ],
   "source": [
    "a1"
   ]
  },
  {
   "cell_type": "code",
   "execution_count": 56,
   "id": "2b7a85eb",
   "metadata": {},
   "outputs": [
    {
     "data": {
      "text/plain": [
       "array([[1. , 2. , 3.3],\n",
       "       [4. , 5. , 6.5]])"
      ]
     },
     "execution_count": 56,
     "metadata": {},
     "output_type": "execute_result"
    }
   ],
   "source": [
    "a2"
   ]
  },
  {
   "cell_type": "code",
   "execution_count": 57,
   "id": "6014a25b",
   "metadata": {},
   "outputs": [
    {
     "data": {
      "text/plain": [
       "array([[[ 1,  2,  3],\n",
       "        [ 4,  5,  6],\n",
       "        [ 7,  8,  9]],\n",
       "\n",
       "       [[10, 11, 12],\n",
       "        [13, 14, 15],\n",
       "        [16, 17, 18]]])"
      ]
     },
     "execution_count": 57,
     "metadata": {},
     "output_type": "execute_result"
    }
   ],
   "source": [
    "a3"
   ]
  },
  {
   "cell_type": "code",
   "execution_count": 58,
   "id": "33ab4dac",
   "metadata": {},
   "outputs": [
    {
     "data": {
      "text/plain": [
       "array([1. , 2. , 3.3])"
      ]
     },
     "execution_count": 58,
     "metadata": {},
     "output_type": "execute_result"
    }
   ],
   "source": [
    "a2[0]"
   ]
  },
  {
   "cell_type": "code",
   "execution_count": 59,
   "id": "720b245c",
   "metadata": {},
   "outputs": [
    {
     "data": {
      "text/plain": [
       "(2, 3, 3)"
      ]
     },
     "execution_count": 59,
     "metadata": {},
     "output_type": "execute_result"
    }
   ],
   "source": [
    "a3.shape"
   ]
  },
  {
   "cell_type": "code",
   "execution_count": 60,
   "id": "ad589c96",
   "metadata": {},
   "outputs": [
    {
     "data": {
      "text/plain": [
       "array([[1, 2, 3],\n",
       "       [4, 5, 6],\n",
       "       [7, 8, 9]])"
      ]
     },
     "execution_count": 60,
     "metadata": {},
     "output_type": "execute_result"
    }
   ],
   "source": [
    "a3[0]"
   ]
  },
  {
   "cell_type": "code",
   "execution_count": 61,
   "id": "cd438e62",
   "metadata": {},
   "outputs": [
    {
     "data": {
      "text/plain": [
       "array([[10, 11, 12],\n",
       "       [13, 14, 15],\n",
       "       [16, 17, 18]])"
      ]
     },
     "execution_count": 61,
     "metadata": {},
     "output_type": "execute_result"
    }
   ],
   "source": [
    "a3[1]"
   ]
  },
  {
   "cell_type": "raw",
   "id": "1ffa24e8",
   "metadata": {},
   "source": [
    "#create 4-dim array"
   ]
  },
  {
   "cell_type": "code",
   "execution_count": 63,
   "id": "96db3afb",
   "metadata": {},
   "outputs": [],
   "source": [
    "a4 = np.random.randint(10,size=(2,3,4,5))"
   ]
  },
  {
   "cell_type": "code",
   "execution_count": 64,
   "id": "15e5e43d",
   "metadata": {},
   "outputs": [
    {
     "data": {
      "text/plain": [
       "((2, 3, 4, 5), 4)"
      ]
     },
     "execution_count": 64,
     "metadata": {},
     "output_type": "execute_result"
    }
   ],
   "source": [
    "a4.shape, a4.ndim"
   ]
  },
  {
   "cell_type": "code",
   "execution_count": 65,
   "id": "fab6ad2c",
   "metadata": {},
   "outputs": [
    {
     "data": {
      "text/plain": [
       "array([[[[5, 4, 5, 2, 4],\n",
       "         [1, 3, 2, 1, 4],\n",
       "         [5, 8, 3, 1, 2],\n",
       "         [6, 5, 7, 1, 3]],\n",
       "\n",
       "        [[9, 3, 5, 0, 7],\n",
       "         [2, 6, 0, 1, 0],\n",
       "         [4, 6, 5, 6, 4],\n",
       "         [9, 7, 0, 4, 2]],\n",
       "\n",
       "        [[8, 9, 8, 2, 8],\n",
       "         [8, 4, 8, 0, 4],\n",
       "         [7, 9, 5, 9, 6],\n",
       "         [4, 6, 3, 0, 6]]],\n",
       "\n",
       "\n",
       "       [[[3, 1, 4, 1, 5],\n",
       "         [1, 8, 9, 3, 0],\n",
       "         [1, 4, 8, 5, 4],\n",
       "         [3, 5, 0, 8, 7]],\n",
       "\n",
       "        [[4, 3, 3, 6, 1],\n",
       "         [7, 9, 1, 2, 0],\n",
       "         [7, 1, 5, 2, 2],\n",
       "         [1, 3, 4, 3, 8]],\n",
       "\n",
       "        [[0, 6, 8, 3, 9],\n",
       "         [7, 1, 8, 2, 8],\n",
       "         [0, 4, 8, 8, 6],\n",
       "         [4, 3, 0, 4, 0]]]])"
      ]
     },
     "execution_count": 65,
     "metadata": {},
     "output_type": "execute_result"
    }
   ],
   "source": [
    "a4"
   ]
  },
  {
   "cell_type": "code",
   "execution_count": 66,
   "id": "6c392a45",
   "metadata": {},
   "outputs": [
    {
     "data": {
      "text/plain": [
       "array([[[5, 4, 5, 2, 4],\n",
       "        [1, 3, 2, 1, 4],\n",
       "        [5, 8, 3, 1, 2],\n",
       "        [6, 5, 7, 1, 3]],\n",
       "\n",
       "       [[9, 3, 5, 0, 7],\n",
       "        [2, 6, 0, 1, 0],\n",
       "        [4, 6, 5, 6, 4],\n",
       "        [9, 7, 0, 4, 2]],\n",
       "\n",
       "       [[8, 9, 8, 2, 8],\n",
       "        [8, 4, 8, 0, 4],\n",
       "        [7, 9, 5, 9, 6],\n",
       "        [4, 6, 3, 0, 6]]])"
      ]
     },
     "execution_count": 66,
     "metadata": {},
     "output_type": "execute_result"
    }
   ],
   "source": [
    "a4[0]"
   ]
  },
  {
   "cell_type": "code",
   "execution_count": 67,
   "id": "2d94def2",
   "metadata": {},
   "outputs": [
    {
     "data": {
      "text/plain": [
       "array([[[[5, 4, 5, 2],\n",
       "         [1, 3, 2, 1],\n",
       "         [5, 8, 3, 1],\n",
       "         [6, 5, 7, 1]],\n",
       "\n",
       "        [[9, 3, 5, 0],\n",
       "         [2, 6, 0, 1],\n",
       "         [4, 6, 5, 6],\n",
       "         [9, 7, 0, 4]],\n",
       "\n",
       "        [[8, 9, 8, 2],\n",
       "         [8, 4, 8, 0],\n",
       "         [7, 9, 5, 9],\n",
       "         [4, 6, 3, 0]]],\n",
       "\n",
       "\n",
       "       [[[3, 1, 4, 1],\n",
       "         [1, 8, 9, 3],\n",
       "         [1, 4, 8, 5],\n",
       "         [3, 5, 0, 8]],\n",
       "\n",
       "        [[4, 3, 3, 6],\n",
       "         [7, 9, 1, 2],\n",
       "         [7, 1, 5, 2],\n",
       "         [1, 3, 4, 3]],\n",
       "\n",
       "        [[0, 6, 8, 3],\n",
       "         [7, 1, 8, 2],\n",
       "         [0, 4, 8, 8],\n",
       "         [4, 3, 0, 4]]]])"
      ]
     },
     "execution_count": 67,
     "metadata": {},
     "output_type": "execute_result"
    }
   ],
   "source": [
    "#get the first four numbers of the innermost arrays\n",
    "a4[:, :, :, :4]"
   ]
  },
  {
   "cell_type": "markdown",
   "id": "5f8c3fa9",
   "metadata": {},
   "source": [
    "## Manipulating and Comparing Arrays"
   ]
  },
  {
   "cell_type": "markdown",
   "id": "fdf615e8",
   "metadata": {},
   "source": [
    "### Arithmetic"
   ]
  },
  {
   "cell_type": "code",
   "execution_count": 68,
   "id": "19942d44",
   "metadata": {},
   "outputs": [
    {
     "data": {
      "text/plain": [
       "array([1, 2, 3])"
      ]
     },
     "execution_count": 68,
     "metadata": {},
     "output_type": "execute_result"
    }
   ],
   "source": [
    "a1"
   ]
  },
  {
   "cell_type": "code",
   "execution_count": 73,
   "id": "2a394608",
   "metadata": {},
   "outputs": [],
   "source": [
    "ones = np.ones(3)"
   ]
  },
  {
   "cell_type": "code",
   "execution_count": 74,
   "id": "1ec212d9",
   "metadata": {},
   "outputs": [
    {
     "data": {
      "text/plain": [
       "array([1., 1., 1.])"
      ]
     },
     "execution_count": 74,
     "metadata": {},
     "output_type": "execute_result"
    }
   ],
   "source": [
    "ones"
   ]
  },
  {
   "cell_type": "code",
   "execution_count": 75,
   "id": "a24b870f",
   "metadata": {},
   "outputs": [
    {
     "data": {
      "text/plain": [
       "array([2., 3., 4.])"
      ]
     },
     "execution_count": 75,
     "metadata": {},
     "output_type": "execute_result"
    }
   ],
   "source": [
    "#simple addition\n",
    "\n",
    "a1 + ones"
   ]
  },
  {
   "cell_type": "code",
   "execution_count": 76,
   "id": "0cd15cb8",
   "metadata": {},
   "outputs": [],
   "source": [
    "#they have to be the same shape"
   ]
  },
  {
   "cell_type": "code",
   "execution_count": 77,
   "id": "f600274c",
   "metadata": {},
   "outputs": [
    {
     "data": {
      "text/plain": [
       "array([0., 1., 2.])"
      ]
     },
     "execution_count": 77,
     "metadata": {},
     "output_type": "execute_result"
    }
   ],
   "source": [
    "a1 - ones"
   ]
  },
  {
   "cell_type": "code",
   "execution_count": 78,
   "id": "5a34c70e",
   "metadata": {},
   "outputs": [
    {
     "data": {
      "text/plain": [
       "array([1., 2., 3.])"
      ]
     },
     "execution_count": 78,
     "metadata": {},
     "output_type": "execute_result"
    }
   ],
   "source": [
    "a1 * ones"
   ]
  },
  {
   "cell_type": "code",
   "execution_count": 82,
   "id": "baae1053",
   "metadata": {},
   "outputs": [
    {
     "data": {
      "text/plain": [
       "array([1, 2, 3])"
      ]
     },
     "execution_count": 82,
     "metadata": {},
     "output_type": "execute_result"
    }
   ],
   "source": [
    "a1"
   ]
  },
  {
   "cell_type": "code",
   "execution_count": 83,
   "id": "bae72e03",
   "metadata": {},
   "outputs": [
    {
     "data": {
      "text/plain": [
       "array([[1. , 2. , 3.3],\n",
       "       [4. , 5. , 6.5]])"
      ]
     },
     "execution_count": 83,
     "metadata": {},
     "output_type": "execute_result"
    }
   ],
   "source": [
    "a2"
   ]
  },
  {
   "cell_type": "code",
   "execution_count": 79,
   "id": "4dd2a4b9",
   "metadata": {},
   "outputs": [
    {
     "data": {
      "text/plain": [
       "array([[ 1. ,  4. ,  9.9],\n",
       "       [ 4. , 10. , 19.5]])"
      ]
     },
     "execution_count": 79,
     "metadata": {},
     "output_type": "execute_result"
    }
   ],
   "source": [
    "# multiplying a1 by a2\n",
    "a1 * a2"
   ]
  },
  {
   "cell_type": "code",
   "execution_count": null,
   "id": "897a9f92",
   "metadata": {},
   "outputs": [],
   "source": [
    "# a1 is a single row and it multiplies that row by each row on a2\n",
    "#this is called broadcasting. \n",
    "#arrays have to have the same size"
   ]
  },
  {
   "cell_type": "code",
   "execution_count": 84,
   "id": "33cde290",
   "metadata": {},
   "outputs": [
    {
     "data": {
      "text/plain": [
       "(2, 3, 3)"
      ]
     },
     "execution_count": 84,
     "metadata": {},
     "output_type": "execute_result"
    }
   ],
   "source": [
    "a3.shape"
   ]
  },
  {
   "cell_type": "code",
   "execution_count": 85,
   "id": "11834b96",
   "metadata": {},
   "outputs": [
    {
     "data": {
      "text/plain": [
       "(3,)"
      ]
     },
     "execution_count": 85,
     "metadata": {},
     "output_type": "execute_result"
    }
   ],
   "source": [
    "a1.shape"
   ]
  },
  {
   "cell_type": "code",
   "execution_count": 86,
   "id": "17a6d160",
   "metadata": {},
   "outputs": [
    {
     "data": {
      "text/plain": [
       "array([[[ 1,  4,  9],\n",
       "        [ 4, 10, 18],\n",
       "        [ 7, 16, 27]],\n",
       "\n",
       "       [[10, 22, 36],\n",
       "        [13, 28, 45],\n",
       "        [16, 34, 54]]])"
      ]
     },
     "execution_count": 86,
     "metadata": {},
     "output_type": "execute_result"
    }
   ],
   "source": [
    "a1 * a3"
   ]
  },
  {
   "cell_type": "code",
   "execution_count": 87,
   "id": "c8c445d6",
   "metadata": {},
   "outputs": [
    {
     "data": {
      "text/plain": [
       "(2, 3)"
      ]
     },
     "execution_count": 87,
     "metadata": {},
     "output_type": "execute_result"
    }
   ],
   "source": [
    "a2.shape"
   ]
  },
  {
   "cell_type": "code",
   "execution_count": 88,
   "id": "58766acc",
   "metadata": {},
   "outputs": [
    {
     "ename": "ValueError",
     "evalue": "operands could not be broadcast together with shapes (2,3) (2,3,3) ",
     "output_type": "error",
     "traceback": [
      "\u001b[1;31m---------------------------------------------------------------------------\u001b[0m",
      "\u001b[1;31mValueError\u001b[0m                                Traceback (most recent call last)",
      "Cell \u001b[1;32mIn[88], line 1\u001b[0m\n\u001b[1;32m----> 1\u001b[0m a2 \u001b[38;5;241m*\u001b[39m a3\n",
      "\u001b[1;31mValueError\u001b[0m: operands could not be broadcast together with shapes (2,3) (2,3,3) "
     ]
    }
   ],
   "source": [
    "a2 * a3"
   ]
  },
  {
   "cell_type": "code",
   "execution_count": 89,
   "id": "2222b136",
   "metadata": {},
   "outputs": [
    {
     "data": {
      "text/plain": [
       "array([[1. , 2. , 3.3],\n",
       "       [4. , 5. , 6.5]])"
      ]
     },
     "execution_count": 89,
     "metadata": {},
     "output_type": "execute_result"
    }
   ],
   "source": [
    "a2"
   ]
  },
  {
   "cell_type": "code",
   "execution_count": 93,
   "id": "735463ae",
   "metadata": {},
   "outputs": [
    {
     "data": {
      "text/plain": [
       "array([[1. ],\n",
       "       [2. ],\n",
       "       [3.3],\n",
       "       [4. ],\n",
       "       [5. ],\n",
       "       [6.5]])"
      ]
     },
     "execution_count": 93,
     "metadata": {},
     "output_type": "execute_result"
    }
   ],
   "source": [
    "a2_reshaped = np.reshape(a2, (6,1))\n",
    "a2_reshaped"
   ]
  },
  {
   "cell_type": "code",
   "execution_count": 95,
   "id": "eddf691a",
   "metadata": {},
   "outputs": [
    {
     "ename": "ValueError",
     "evalue": "operands could not be broadcast together with shapes (6,1) (2,3,3) ",
     "output_type": "error",
     "traceback": [
      "\u001b[1;31m---------------------------------------------------------------------------\u001b[0m",
      "\u001b[1;31mValueError\u001b[0m                                Traceback (most recent call last)",
      "Cell \u001b[1;32mIn[95], line 1\u001b[0m\n\u001b[1;32m----> 1\u001b[0m a2_reshaped \u001b[38;5;241m*\u001b[39m a3\n",
      "\u001b[1;31mValueError\u001b[0m: operands could not be broadcast together with shapes (6,1) (2,3,3) "
     ]
    }
   ],
   "source": [
    "a2_reshaped * a3"
   ]
  },
  {
   "cell_type": "code",
   "execution_count": 96,
   "id": "1048525b",
   "metadata": {},
   "outputs": [
    {
     "data": {
      "text/plain": [
       "array([[1.        , 1.        , 1.1       ],\n",
       "       [4.        , 2.5       , 2.16666667]])"
      ]
     },
     "execution_count": 96,
     "metadata": {},
     "output_type": "execute_result"
    }
   ],
   "source": [
    "a2 /a1"
   ]
  },
  {
   "cell_type": "code",
   "execution_count": 97,
   "id": "fd701ea1",
   "metadata": {},
   "outputs": [
    {
     "data": {
      "text/plain": [
       "array([[1., 1., 1.],\n",
       "       [4., 2., 2.]])"
      ]
     },
     "execution_count": 97,
     "metadata": {},
     "output_type": "execute_result"
    }
   ],
   "source": [
    "## floor division (int) div\n",
    "a2//a1"
   ]
  },
  {
   "cell_type": "code",
   "execution_count": 98,
   "id": "f42dc06f",
   "metadata": {},
   "outputs": [
    {
     "data": {
      "text/plain": [
       "array([[ 1.  ,  4.  , 10.89],\n",
       "       [16.  , 25.  , 42.25]])"
      ]
     },
     "execution_count": 98,
     "metadata": {},
     "output_type": "execute_result"
    }
   ],
   "source": [
    "a2 ** 2"
   ]
  },
  {
   "cell_type": "code",
   "execution_count": 99,
   "id": "08c19d5f",
   "metadata": {},
   "outputs": [
    {
     "data": {
      "text/plain": [
       "array([[0.        , 0.69314718, 1.19392247],\n",
       "       [1.38629436, 1.60943791, 1.87180218]])"
      ]
     },
     "execution_count": 99,
     "metadata": {},
     "output_type": "execute_result"
    }
   ],
   "source": [
    "np.log(a2)"
   ]
  },
  {
   "cell_type": "code",
   "execution_count": 100,
   "id": "01d09b47",
   "metadata": {},
   "outputs": [
    {
     "data": {
      "text/plain": [
       "1.8226964152656422"
      ]
     },
     "execution_count": 100,
     "metadata": {},
     "output_type": "execute_result"
    }
   ],
   "source": [
    "np.std(a2)"
   ]
  },
  {
   "cell_type": "code",
   "execution_count": 101,
   "id": "5490391d",
   "metadata": {},
   "outputs": [
    {
     "data": {
      "text/plain": [
       "array([[  2.71828183,   7.3890561 ,  27.11263892],\n",
       "       [ 54.59815003, 148.4131591 , 665.14163304]])"
      ]
     },
     "execution_count": 101,
     "metadata": {},
     "output_type": "execute_result"
    }
   ],
   "source": [
    "np.exp(a2)"
   ]
  },
  {
   "cell_type": "code",
   "execution_count": null,
   "id": "d3a5472a",
   "metadata": {},
   "outputs": [],
   "source": []
  }
 ],
 "metadata": {
  "kernelspec": {
   "display_name": "Python 3 (ipykernel)",
   "language": "python",
   "name": "python3"
  },
  "language_info": {
   "codemirror_mode": {
    "name": "ipython",
    "version": 3
   },
   "file_extension": ".py",
   "mimetype": "text/x-python",
   "name": "python",
   "nbconvert_exporter": "python",
   "pygments_lexer": "ipython3",
   "version": "3.11.2"
  }
 },
 "nbformat": 4,
 "nbformat_minor": 5
}
